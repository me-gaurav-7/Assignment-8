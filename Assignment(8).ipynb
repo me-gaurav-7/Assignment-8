{
 "cells": [
  {
   "cell_type": "code",
   "execution_count": 1,
   "id": "fa18d4d7-146b-452a-a2c8-6dbda8aed46b",
   "metadata": {},
   "outputs": [],
   "source": [
    "# A set is an unordered collection of unique elements. It is a built-in data type that allows you to store a collection of values where each value appears only once in the set."
   ]
  },
  {
   "cell_type": "code",
   "execution_count": 2,
   "id": "6235d4ae-694c-44ee-8f28-010ed2cfe0e7",
   "metadata": {},
   "outputs": [],
   "source": [
    "# How to create elemnet in set\n",
    "my_set = {1, 2, 3, 4}"
   ]
  },
  {
   "cell_type": "code",
   "execution_count": 3,
   "id": "bc61c7d8-ff52-4a14-aa9c-a1513b72d343",
   "metadata": {},
   "outputs": [
    {
     "name": "stdout",
     "output_type": "stream",
     "text": [
      "{1, 2, 3, 4}\n"
     ]
    }
   ],
   "source": [
    "print(my_set)"
   ]
  },
  {
   "cell_type": "code",
   "execution_count": 4,
   "id": "cd0d33a4-87f8-4bdf-aa14-f7ad70b84b46",
   "metadata": {},
   "outputs": [],
   "source": [
    "# In Python, we can add elements to a set using the add() method "
   ]
  },
  {
   "cell_type": "code",
   "execution_count": 5,
   "id": "791dcad7-8ed3-4954-bd50-a73c0c12e162",
   "metadata": {},
   "outputs": [],
   "source": [
    "# Here's how you can add elements to a set using the add() method:"
   ]
  },
  {
   "cell_type": "code",
   "execution_count": 6,
   "id": "89727292-d5d1-4a3d-8578-675469759f0d",
   "metadata": {},
   "outputs": [],
   "source": [
    "#how to add element in set \n",
    "my_set = {1, 2, 3}"
   ]
  },
  {
   "cell_type": "code",
   "execution_count": 7,
   "id": "9ee00aa6-0a0b-481e-97bd-c8ee7247ce58",
   "metadata": {},
   "outputs": [],
   "source": [
    "my_set.add(4)"
   ]
  },
  {
   "cell_type": "code",
   "execution_count": 8,
   "id": "1b70c942-b1a2-4943-b86c-fd89ce98c29a",
   "metadata": {},
   "outputs": [],
   "source": [
    "my_set.add(5) "
   ]
  },
  {
   "cell_type": "code",
   "execution_count": 9,
   "id": "7c9b858b-bd18-4362-921d-a996c2344e03",
   "metadata": {},
   "outputs": [
    {
     "name": "stdout",
     "output_type": "stream",
     "text": [
      "{1, 2, 3, 4, 5}\n"
     ]
    }
   ],
   "source": [
    "print(my_set) "
   ]
  },
  {
   "cell_type": "code",
   "execution_count": 10,
   "id": "dc0f6e34-7b83-4e27-803d-eeda78e90c1f",
   "metadata": {},
   "outputs": [],
   "source": [
    "#how to remove element in set \n",
    "my_set = {1,2,3,4,5}"
   ]
  },
  {
   "cell_type": "code",
   "execution_count": 11,
   "id": "5779f7eb-c0c2-417f-8846-b0b56a411962",
   "metadata": {},
   "outputs": [],
   "source": [
    "my_set.remove(2)"
   ]
  },
  {
   "cell_type": "code",
   "execution_count": 12,
   "id": "1e1e12b8-bfcd-44b1-8e0d-1f4ed0322a0c",
   "metadata": {},
   "outputs": [],
   "source": [
    "my_set.remove(5)"
   ]
  },
  {
   "cell_type": "code",
   "execution_count": 13,
   "id": "8ef4947d-1010-483d-895c-22d31eac925d",
   "metadata": {},
   "outputs": [
    {
     "name": "stdout",
     "output_type": "stream",
     "text": [
      "{1, 3, 4}\n"
     ]
    }
   ],
   "source": [
    "print(my_set)"
   ]
  },
  {
   "cell_type": "code",
   "execution_count": 14,
   "id": "d35f91ea-a560-4a3d-bc8d-d48c6e2d6290",
   "metadata": {},
   "outputs": [],
   "source": [
    "# How do you get the length of a set in Python?\n",
    "my_set = {1,2,3,4,5,6,7}"
   ]
  },
  {
   "cell_type": "code",
   "execution_count": null,
   "id": "060a93fa-3244-4dd5-89d4-ece703c95634",
   "metadata": {},
   "outputs": [],
   "source": [
    "len"
   ]
  }
 ],
 "metadata": {
  "kernelspec": {
   "display_name": "Python 3 (ipykernel)",
   "language": "python",
   "name": "python3"
  },
  "language_info": {
   "codemirror_mode": {
    "name": "ipython",
    "version": 3
   },
   "file_extension": ".py",
   "mimetype": "text/x-python",
   "name": "python",
   "nbconvert_exporter": "python",
   "pygments_lexer": "ipython3",
   "version": "3.10.8"
  }
 },
 "nbformat": 4,
 "nbformat_minor": 5
}
